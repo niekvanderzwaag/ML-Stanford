{
 "cells": [
  {
   "cell_type": "markdown",
   "source": "# Programming Exercise 5:\n# Regularized Linear Regression and Bias vs Variance\n\n## Introduction\n\nIn this exercise, you will implement regularized linear regression and use it to study models with different bias-variance properties. Before starting on the programming exercise, we strongly recommend watching the video lectures and completing the review questions for the associated topics.\n\nAll the information you need for solving this assignment is in this notebook, and all the code you will be implementing will take place within this notebook. The assignment can be promptly submitted to the coursera grader directly from this notebook (code and instructions are included below).\n\nBefore we begin with the exercises, we need to import all libraries required for this programming exercise. Throughout the course, we will be using [`numpy`](http://www.numpy.org/) for all arrays and matrix operations, [`matplotlib`](https://matplotlib.org/) for plotting, and [`scipy`](https://docs.scipy.org/doc/scipy/reference/) for scientific and numerical computation functions and tools. You can find instructions on how to install required libraries in the README file in the [github repository](https://github.com/dibgerge/ml-coursera-python-assignments).",
   "metadata": {
    "cell_id": "00000-ad8086dd-1a10-41c6-9bf1-86de3e5f0859",
    "deepnote_cell_type": "markdown"
   }
  },
  {
   "cell_type": "code",
   "metadata": {
    "cell_id": "00001-e6248551-c1c0-4fa3-88dc-388451b9fc85",
    "deepnote_to_be_reexecuted": false,
    "source_hash": "e7c10f87",
    "execution_start": 1640946828852,
    "execution_millis": 3662,
    "deepnote_cell_type": "code"
   },
   "source": "# used for manipulating directory paths\nimport os\n\n# Scientific and vector computation for python\nimport numpy as np\n\n# Plotting library\nfrom matplotlib import pyplot\n\n# Optimization module in scipy\nfrom scipy import optimize\n\n# will be used to load MATLAB mat datafile format\nfrom scipy.io import loadmat\n\n# library written for this exercise providing additional functions for assignment submission, and others\nimport utils\n\n# define the submission/grader object for this exercise\ngrader = utils.Grader()\n\n# tells matplotlib to embed plots within the notebook\n%matplotlib inline",
   "outputs": [],
   "execution_count": null
  },
  {
   "cell_type": "markdown",
   "source": "## Submission and Grading\n\n\nAfter completing each part of the assignment, be sure to submit your solutions to the grader. The following is a breakdown of how each part of this exercise is scored.\n\n\n| Section | Part                                             | Submitted Function                | Points |\n| :-      |:-                                                |:-                                 | :-:    |\n| 1       | [Regularized Linear Regression Cost Function](#section1)      | [`linearRegCostFunction`](#linearRegCostFunction) |  25    |\n| 2       | [Regularized Linear Regression Gradient](#section2)           | [`linearRegCostFunction`](#linearRegCostFunction) |25      |\n| 3       | [Learning Curve](#section3)                                   | [`learningCurve`](#func2)         | 20     |\n| 4       | [Polynomial Feature Mapping](#section4)                       | [`polyFeatures`](#polyFeatures)          | 10     |\n| 5       | [Cross Validation Curve](#section5)                           | [`validationCurve`](#validationCurve)       | 20     |\n|         | Total Points                                     |                                   |100     |\n\n\nYou are allowed to submit your solutions multiple times, and we will take only the highest score into consideration.\n\n<div class=\"alert alert-block alert-warning\">\nAt the end of each section in this notebook, we have a cell which contains code for submitting the solutions thus far to the grader. Execute the cell to see your score up to the current section. For all your work to be submitted properly, you must execute those cells at least once.\n</div>",
   "metadata": {
    "cell_id": "00002-697bc4eb-49d1-4089-838e-063f06a041f0",
    "deepnote_cell_type": "markdown"
   }
  },
  {
   "cell_type": "markdown",
   "source": "<a id=\"section1\"></a>\n## 1 Regularized Linear Regression\n\nIn the first half of the exercise, you will implement regularized linear regression to predict the amount of water flowing out of a dam using the change of water level in a reservoir. In the next half, you will go through some diagnostics of debugging learning algorithms and examine the effects of bias v.s.\nvariance. \n\n### 1.1 Visualizing the dataset\n\nWe will begin by visualizing the dataset containing historical records on the change in the water level, $x$, and the amount of water flowing out of the dam, $y$. This dataset is divided into three parts:\n\n- A **training** set that your model will learn on: `X`, `y`\n- A **cross validation** set for determining the regularization parameter: `Xval`, `yval`\n- A **test** set for evaluating performance. These are “unseen” examples which your model did not see during training: `Xtest`, `ytest`\n\nRun the next cell to plot the training data. In the following parts, you will implement linear regression and use that to fit a straight line to the data and plot learning curves. Following that, you will implement polynomial regression to find a better fit to the data.",
   "metadata": {
    "cell_id": "00003-e0d46601-3796-4a06-8e5b-d3c04e50303a",
    "deepnote_cell_type": "markdown"
   }
  },
  {
   "cell_type": "code",
   "metadata": {
    "cell_id": "00004-90c41da0-6eeb-4870-926a-c59bc05f2374",
    "deepnote_to_be_reexecuted": false,
    "source_hash": "ec492f50",
    "execution_start": 1640947212633,
    "execution_millis": 289,
    "deepnote_output_heights": [
     107.61666870117188
    ],
    "deepnote_cell_type": "code"
   },
   "source": "# Load from ex5data1.mat, where all variables will be store in a dictionary\ndata = loadmat(os.path.join('Data', 'ex5data1.mat'))\n\n# Extract train, test, validation data from dictionary\n# and also convert y's form 2-D matrix (MATLAB format) to a numpy vector\nX, y = data['X'], data['y'][:, 0]\nXtest, ytest = data['Xtest'], data['ytest'][:, 0]\nXval, yval = data['Xval'], data['yval'][:, 0]\n\n# m = Number of examples\nm = y.size\n\n# Plot training data\npyplot.plot(X, y, 'ro', ms=10, mec='k', mew=1)\npyplot.xlabel('Change in water level (x)')\npyplot.ylabel('Water flowing out of the dam (y)');",
   "outputs": [
    {
     "data": {
      "text/plain": "<Figure size 432x288 with 1 Axes>",
      "image/png": "[encoded data removed]"
     },
     "metadata": {
      "needs_background": "light",
      "image/png": {
       "width": 382,
       "height": 262
      }
     },
     "output_type": "display_data"
    }
   ],
   "execution_count": null
  },
  {
   "cell_type": "markdown",
   "source": "### 1.2 Regularized linear regression cost function\n\nRecall that regularized linear regression has the following cost function:\n\n$$ J(\\theta) = \\frac{1}{2m} \\left( \\sum_{i=1}^m \\left( h_\\theta\\left( x^{(i)} \\right) - y^{(i)} \\right)^2 \\right) + \\frac{\\lambda}{2m} \\left( \\sum_{j=1}^n \\theta_j^2 \\right)$$\n\nwhere $\\lambda$ is a regularization parameter which controls the degree of regularization (thus, help preventing overfitting). The regularization term puts a penalty on the overall cost J. As the magnitudes of the model parameters $\\theta_j$ increase, the penalty increases as well. Note that you should not regularize\nthe $\\theta_0$ term.\n\nYou should now complete the code in the function `linearRegCostFunction` in the next cell. Your task is to calculate the regularized linear regression cost function. If possible, try to vectorize your code and avoid writing loops.\n<a id=\"linearRegCostFunction\"></a>",
   "metadata": {
    "cell_id": "00005-212a64a4-bea5-480d-91c1-a9c209f18844",
    "deepnote_cell_type": "markdown"
   }
  },
  {
   "cell_type": "code",
   "metadata": {
    "cell_id": "00006-358827e3-fcb7-4b9c-a99a-ead2c7ba7603",
    "deepnote_to_be_reexecuted": false,
    "source_hash": "c00eeddc",
    "execution_start": 1640947235939,
    "execution_millis": 4,
    "deepnote_cell_type": "code"
   },
   "source": "def linearRegCostFunction(X, y, theta, lambda_=0.0):\n    \"\"\"\n    Compute cost and gradient for regularized linear regression \n    with multiple variables. Computes the cost of using theta as\n    the parameter for linear regression to fit the data points in X and y. \n    \n    Parameters\n    ----------\n    X : array_like\n        The dataset. Matrix with shape (m x n + 1) where m is the \n        total number of examples, and n is the number of features \n        before adding the bias term.\n    \n    y : array_like\n        The functions values at each datapoint. A vector of\n        shape (m, ).\n    \n    theta : array_like\n        The parameters for linear regression. A vector of shape (n+1,).\n    \n    lambda_ : float, optional\n        The regularization parameter.\n    \n    Returns\n    -------\n    J : float\n        The computed cost function. \n    \n    grad : array_like\n        The value of the cost function gradient w.r.t theta. \n        A vector of shape (n+1, ).\n    \n    Instructions\n    ------------\n    Compute the cost and gradient of regularized linear regression for\n    a particular choice of theta.\n    You should set J to the cost and grad to the gradient.\n    \"\"\"\n    # Initialize some useful values\n    m = y.size # number of training examples\n\n    # You need to return the following variables correctly \n    J = 0\n    grad = np.zeros(theta.shape)\n\n    # ====================== YOUR CODE HERE ======================\n\n    h = np.dot(X, theta)\n    \n    J = (1/(2*m)) * np.sum(np.square(h - y)) + (lambda_/(2*m)) * (np.dot(theta[1:].T, theta[1:]))\n    \n    grad[0] = (1/m) * (np.dot(X[:, 0].T, (h - y)))\n    \n    grad[1:] = (1/m) * (np.dot(X[:, 1:].T, h-y)) + (lambda_/m) * (theta[1:])\n\n    # ============================================================\n    return J, grad",
   "outputs": [],
   "execution_count": null
  },
  {
   "cell_type": "markdown",
   "source": "When you are finished, the next cell will run your cost function using `theta` initialized at `[1, 1]`. You should expect to see an output of 303.993.",
   "metadata": {
    "cell_id": "00007-74124c1a-6feb-412a-8a36-f2c7d53f776d",
    "deepnote_cell_type": "markdown"
   }
  },
  {
   "cell_type": "code",
   "metadata": {
    "cell_id": "00008-a751e4b7-53e6-4eeb-8924-d13fb2161ef4",
    "deepnote_to_be_reexecuted": false,
    "source_hash": "33ae49cc",
    "execution_start": 1640947238986,
    "execution_millis": 4,
    "deepnote_cell_type": "code"
   },
   "source": "theta = np.array([1, 1])\nJ, _ = linearRegCostFunction(np.concatenate([np.ones((m, 1)), X], axis=1), y, theta, 1)\n\nprint('Cost at theta = [1, 1]:\\t   %f ' % J)\nprint('This value should be about 303.993192)\\n' % J)",
   "outputs": [
    {
     "name": "stdout",
     "text": "Cost at theta = [1, 1]:\t   303.993192 \nThis value should be about 303.993192)\n\n",
     "output_type": "stream",
     "data": {}
    }
   ],
   "execution_count": null
  },
  {
   "cell_type": "markdown",
   "source": "After completing a part of the exercise, you can submit your solutions for grading by first adding the function you modified to the submission object, and then sending your function to Coursera for grading. \n\nThe submission script will prompt you for your login e-mail and submission token. You can obtain a submission token from the web page for the assignment. You are allowed to submit your solutions multiple times, and we will take only the highest score into consideration.\n\n*Execute the following cell to grade your solution to the first part of this exercise.*",
   "metadata": {
    "cell_id": "00009-d7148c88-66f0-49f2-a2ed-f51a2e5bbb47",
    "deepnote_cell_type": "markdown"
   }
  },
  {
   "cell_type": "code",
   "metadata": {
    "cell_id": "00010-f84ab425-7c5c-4dc9-b62a-68e0654ae025",
    "deepnote_to_be_reexecuted": false,
    "source_hash": "271047d4",
    "execution_start": 1640947242097,
    "execution_millis": 15836,
    "deepnote_cell_type": "code"
   },
   "source": "grader[1] = linearRegCostFunction\ngrader.grade()",
   "outputs": [
    {
     "name": "stdout",
     "text": "\nSubmitting Solutions | Programming Exercise regularized-linear-regression-and-bias-variance\n\n                                  Part Name |     Score | Feedback\n                                  --------- |     ----- | --------\n                           Validation Curve |  25 /  25 | Nice work!\nRegularized Linear Regression Cost Function |   0 /  25 | Your answer is incorrect.\n     Regularized Linear Regression Gradient |   0 /  20 | Your answer is incorrect.\n                             Learning Curve |   0 /  10 | Your answer is incorrect.\n                 Polynomial Feature Mapping |   0 /  20 | Your answer is incorrect.\n                                  --------------------------------\n                                            |  25 / 100 |  \n\n",
     "output_type": "stream",
     "data": {}
    }
   ],
   "execution_count": null
  },
  {
   "cell_type": "markdown",
   "source": "<a id=\"section2\"></a>\n### 1.3 Regularized linear regression gradient\n\nCorrespondingly, the partial derivative of the cost function for regularized linear regression is defined as:\n\n$$\n\\begin{align}\n& \\frac{\\partial J(\\theta)}{\\partial \\theta_0} = \\frac{1}{m} \\sum_{i=1}^m \\left( h_\\theta \\left(x^{(i)} \\right) - y^{(i)} \\right) x_j^{(i)} & \\qquad \\text{for } j = 0 \\\\\n& \\frac{\\partial J(\\theta)}{\\partial \\theta_j} = \\left( \\frac{1}{m} \\sum_{i=1}^m \\left( h_\\theta \\left( x^{(i)} \\right) - y^{(i)} \\right) x_j^{(i)} \\right) + \\frac{\\lambda}{m} \\theta_j & \\qquad \\text{for } j \\ge 1\n\\end{align}\n$$\n\nIn the function [`linearRegCostFunction`](#linearRegCostFunction) above, add code to calculate the gradient, returning it in the variable `grad`. <font color='red'><b>Do not forget to re-execute the cell containing this function to update the function's definition.</b></font>\n\n\nWhen you are finished, use the next cell to  run your gradient function using theta initialized at `[1, 1]`. You should expect to see a gradient of `[-15.30, 598.250]`.",
   "metadata": {
    "cell_id": "00011-8e36285e-dbf1-437f-bf63-6ddbf562f1bf",
    "deepnote_cell_type": "markdown"
   }
  },
  {
   "cell_type": "code",
   "metadata": {
    "cell_id": "00012-7547251f-f6bf-4874-b4df-9777553d4fa1",
    "deepnote_to_be_reexecuted": false,
    "source_hash": "e4724b8",
    "execution_start": 1640947285615,
    "execution_millis": 4,
    "deepnote_cell_type": "code"
   },
   "source": "theta = np.array([1, 1])\nJ, grad = linearRegCostFunction(np.concatenate([np.ones((m, 1)), X], axis=1), y, theta, 1)\n\nprint('Gradient at theta = [1, 1]:  [{:.6f}, {:.6f}] '.format(*grad))\nprint(' (this value should be about [-15.303016, 598.250744])\\n')",
   "outputs": [
    {
     "name": "stdout",
     "text": "Gradient at theta = [1, 1]:  [-15.303016, 598.250744] \n (this value should be about [-15.303016, 598.250744])\n\n",
     "output_type": "stream",
     "data": {}
    }
   ],
   "execution_count": null
  },
  {
   "cell_type": "markdown",
   "source": "*You should now submit your solutions.*",
   "metadata": {
    "cell_id": "00013-b9a8864e-bd05-40d3-b444-4364c888287b",
    "deepnote_cell_type": "markdown"
   }
  },
  {
   "cell_type": "code",
   "metadata": {
    "cell_id": "00014-4d990b96-0a5d-485e-bad4-747af90aeb94",
    "deepnote_to_be_reexecuted": false,
    "source_hash": "e322be05",
    "execution_start": 1640947292890,
    "execution_millis": 4415,
    "deepnote_cell_type": "code"
   },
   "source": "grader[2] = linearRegCostFunction\ngrader.grade()",
   "outputs": [
    {
     "name": "stdout",
     "text": "\nSubmitting Solutions | Programming Exercise regularized-linear-regression-and-bias-variance\n\n                                  Part Name |     Score | Feedback\n                                  --------- |     ----- | --------\n                           Validation Curve |  25 /  25 | Nice work!\nRegularized Linear Regression Cost Function |  25 /  25 | Nice work!\n     Regularized Linear Regression Gradient |   0 /  20 | Your answer is incorrect.\n                             Learning Curve |   0 /  10 | Your answer is incorrect.\n                 Polynomial Feature Mapping |   0 /  20 | Your answer is incorrect.\n                                  --------------------------------\n                                            |  50 / 100 |  \n\n",
     "output_type": "stream",
     "data": {}
    }
   ],
   "execution_count": null
  },
  {
   "cell_type": "markdown",
   "source": "### Fitting linear regression\n\nOnce your cost function and gradient are working correctly, the next cell will run the code in `trainLinearReg` (found in the module `utils.py`) to compute the optimal values of $\\theta$. This training function uses `scipy`'s optimization module to minimize the cost function.\n\nIn this part, we set regularization parameter $\\lambda$ to zero. Because our current implementation of linear regression is trying to fit a 2-dimensional $\\theta$, regularization will not be incredibly helpful for a $\\theta$ of such low dimension. In the later parts of the exercise, you will be using polynomial regression with regularization.\n\nFinally, the code in the next cell should also plot the best fit line, which should look like the figure below. \n\n![](Figures/linear_fit.png)\n\nThe best fit line tells us that the model is not a good fit to the data because the data has a non-linear pattern. While visualizing the best fit as shown is one possible way to debug your learning algorithm, it is not always easy to visualize the data and model. In the next section, you will implement a function to generate learning curves that can help you debug your learning algorithm even if it is not easy to visualize the\ndata.",
   "metadata": {
    "cell_id": "00015-50e07e2c-5a99-4e72-ad59-4b66f0a13c67",
    "deepnote_cell_type": "markdown"
   }
  },
  {
   "cell_type": "code",
   "metadata": {
    "cell_id": "00016-109f581b-bd6d-47f3-b176-7215e8e50fc7",
    "deepnote_to_be_reexecuted": false,
    "source_hash": "2b107ac5",
    "execution_start": 1640947302405,
    "execution_millis": 308,
    "deepnote_output_heights": [
     107.61666870117188
    ],
    "deepnote_cell_type": "code"
   },
   "source": "# add a columns of ones for the y-intercept\nX_aug = np.concatenate([np.ones((m, 1)), X], axis=1)\ntheta = utils.trainLinearReg(linearRegCostFunction, X_aug, y, lambda_=0)\n\n#  Plot fit over the data\npyplot.plot(X, y, 'ro', ms=10, mec='k', mew=1.5)\npyplot.xlabel('Change in water level (x)')\npyplot.ylabel('Water flowing out of the dam (y)')\npyplot.plot(X, np.dot(X_aug, theta), '--', lw=2);",
   "outputs": [
    {
     "data": {
      "text/plain": "<Figure size 432x288 with 1 Axes>",
      "image/png": "[encoded data removed]"
     },
     "metadata": {
      "needs_background": "light",
      "image/png": {
       "width": 382,
       "height": 262
      }
     },
     "output_type": "display_data"
    }
   ],
   "execution_count": null
  },
  {
   "cell_type": "markdown",
   "source": "<a id=\"section3\"></a>\n## 2 Bias-variance\n\nAn important concept in machine learning is the bias-variance tradeoff. Models with high bias are not complex enough for the data and tend to underfit, while models with high variance overfit to the training data.\n\nIn this part of the exercise, you will plot training and test errors on a learning curve to diagnose bias-variance problems.\n\n### 2.1 Learning Curves\n\nYou will now implement code to generate the learning curves that will be useful in debugging learning algorithms. Recall that a learning curve plots training and cross validation error as a function of training set size. Your job is to fill in the function `learningCurve` in the next cell, so that it returns a vector of errors for the training set and cross validation set.\n\nTo plot the learning curve, we need a training and cross validation set error for different training set sizes. To obtain different training set sizes, you should use different subsets of the original training set `X`. Specifically, for a training set size of $i$, you should use the first $i$ examples (i.e., `X[:i, :]`\nand `y[:i]`).\n\nYou can use the `trainLinearReg` function (by calling `utils.trainLinearReg(...)`) to find the $\\theta$ parameters. Note that the `lambda_` is passed as a parameter to the `learningCurve` function.\nAfter learning the $\\theta$ parameters, you should compute the error on the training and cross validation sets. Recall that the training error for a dataset is defined as\n\n$$ J_{\\text{train}} = \\frac{1}{2m} \\left[ \\sum_{i=1}^m \\left(h_\\theta \\left( x^{(i)} \\right) - y^{(i)} \\right)^2 \\right] $$\n\nIn particular, note that the training error does not include the regularization term. One way to compute the training error is to use your existing cost function and set $\\lambda$ to 0 only when using it to compute the training error and cross validation error. When you are computing the training set error, make sure you compute it on the training subset (i.e., `X[:n,:]` and `y[:n]`) instead of the entire training set. However, for the cross validation error, you should compute it over the entire cross validation set. You should store\nthe computed errors in the vectors error train and error val.\n\n<a id=\"func2\"></a>",
   "metadata": {
    "cell_id": "00017-551c2e25-1514-40a2-909d-bdfc3e2a5b35",
    "deepnote_cell_type": "markdown"
   }
  },
  {
   "cell_type": "code",
   "metadata": {
    "cell_id": "00018-23952a6a-d5b1-4276-b3ed-54fb78ba3cb2",
    "deepnote_to_be_reexecuted": false,
    "source_hash": "c0fe89e7",
    "execution_start": 1640947325170,
    "execution_millis": 3,
    "deepnote_cell_type": "code"
   },
   "source": "def learningCurve(X, y, Xval, yval, lambda_=0):\n    \"\"\"\n    Generates the train and cross validation set errors needed to plot a learning curve\n    returns the train and cross validation set errors for a learning curve. \n    \n    In this function, you will compute the train and test errors for\n    dataset sizes from 1 up to m. In practice, when working with larger\n    datasets, you might want to do this in larger intervals.\n    \n    Parameters\n    ----------\n    X : array_like\n        The training dataset. Matrix with shape (m x n + 1) where m is the \n        total number of examples, and n is the number of features \n        before adding the bias term.\n    \n    y : array_like\n        The functions values at each training datapoint. A vector of\n        shape (m, ).\n    \n    Xval : array_like\n        The validation dataset. Matrix with shape (m_val x n + 1) where m is the \n        total number of examples, and n is the number of features \n        before adding the bias term.\n    \n    yval : array_like\n        The functions values at each validation datapoint. A vector of\n        shape (m_val, ).\n    \n    lambda_ : float, optional\n        The regularization parameter.\n    \n    Returns\n    -------\n    error_train : array_like\n        A vector of shape m. error_train[i] contains the training error for\n        i examples.\n    error_val : array_like\n        A vecotr of shape m. error_val[i] contains the validation error for\n        i training examples.\n    \n    Instructions\n    ------------\n    Fill in this function to return training errors in error_train and the\n    cross validation errors in error_val. i.e., error_train[i] and \n    error_val[i] should give you the errors obtained after training on i examples.\n    \n    Notes\n    -----\n    - You should evaluate the training error on the first i training\n      examples (i.e., X[:i, :] and y[:i]).\n    \n      For the cross-validation error, you should instead evaluate on\n      the _entire_ cross validation set (Xval and yval).\n    \n    - If you are using your cost function (linearRegCostFunction) to compute\n      the training and cross validation error, you should call the function with\n      the lambda argument set to 0. Do note that you will still need to use\n      lambda when running the training to obtain the theta parameters.\n    \n    Hint\n    ----\n    You can loop over the examples with the following:\n     \n           for i in range(1, m+1):\n               # Compute train/cross validation errors using training examples \n               # X[:i, :] and y[:i], storing the result in \n               # error_train[i-1] and error_val[i-1]\n               ....  \n    \"\"\"\n    # Number of training examples\n    m = y.size\n\n    # You need to return these values correctly\n    error_train = np.zeros(m)\n    error_val   = np.zeros(m)\n\n    # ====================== YOUR CODE HERE ======================\n         \n    for i in range(1, m+1):\n        theta_t = utils.trainLinearReg(linearRegCostFunction, X[:i], y[:i], lambda_=lambda_)\n        error_train[i-1], _ = linearRegCostFunction(X[:i], y[:i], theta_t, lambda_=0)\n        error_val[i-1], _ = linearRegCostFunction(Xval, yval, theta_t, lambda_=0)\n        \n    # =============================================================\n    return error_train, error_val",
   "outputs": [],
   "execution_count": null
  },
  {
   "cell_type": "markdown",
   "source": "When you are finished implementing the function `learningCurve`, executing the next cell prints the learning curves and produce a plot similar to the figure below. \n\n![](Figures/learning_curve.png)\n\nIn the learning curve figure, you can observe that both the train error and cross validation error are high when the number of training examples is increased. This reflects a high bias problem in the model - the linear regression model is too simple and is unable to fit our dataset well. In the next section, you will implement polynomial regression to fit a better model for this dataset.",
   "metadata": {
    "cell_id": "00019-f2956385-70de-4b42-a933-3c9bf171e6b5",
    "deepnote_cell_type": "markdown"
   }
  },
  {
   "cell_type": "code",
   "metadata": {
    "cell_id": "00020-818418ab-26e8-4063-97f5-8d6f218093b3",
    "deepnote_to_be_reexecuted": false,
    "source_hash": "97a228d2",
    "execution_start": 1640947328835,
    "execution_millis": 608,
    "deepnote_output_heights": [
     null,
     112.05000305175781
    ],
    "deepnote_cell_type": "code"
   },
   "source": "X_aug = np.concatenate([np.ones((m, 1)), X], axis=1)\nXval_aug = np.concatenate([np.ones((yval.size, 1)), Xval], axis=1)\nerror_train, error_val = learningCurve(X_aug, y, Xval_aug, yval, lambda_=0)\n\npyplot.plot(np.arange(1, m+1), error_train, np.arange(1, m+1), error_val, lw=2)\npyplot.title('Learning curve for linear regression')\npyplot.legend(['Train', 'Cross Validation'])\npyplot.xlabel('Number of training examples')\npyplot.ylabel('Error')\npyplot.axis([0, 13, 0, 150])\n\nprint('# Training Examples\\tTrain Error\\tCross Validation Error')\nfor i in range(m):\n    print('  \\t%d\\t\\t%f\\t%f' % (i+1, error_train[i], error_val[i]))",
   "outputs": [
    {
     "name": "stdout",
     "text": "# Training Examples\tTrain Error\tCross Validation Error\n  \t1\t\t0.000000\t205.121096\n  \t2\t\t0.000000\t110.302641\n  \t3\t\t3.286595\t45.010231\n  \t4\t\t2.842678\t48.368911\n  \t5\t\t13.154049\t35.865165\n  \t6\t\t19.443963\t33.829962\n  \t7\t\t20.098522\t31.970986\n  \t8\t\t18.172859\t30.862446\n  \t9\t\t22.609405\t31.135998\n  \t10\t\t23.261462\t28.936207\n  \t11\t\t24.317250\t29.551432\n  \t12\t\t22.373906\t29.433818\n",
     "output_type": "stream",
     "data": {}
    },
    {
     "data": {
      "text/plain": "<Figure size 432x288 with 1 Axes>",
      "image/png": "[encoded data removed]"
     },
     "metadata": {
      "needs_background": "light",
      "image/png": {
       "width": 389,
       "height": 278
      }
     },
     "output_type": "display_data"
    }
   ],
   "execution_count": null
  },
  {
   "cell_type": "markdown",
   "source": "*You should now submit your solutions.*",
   "metadata": {
    "cell_id": "00021-279a5e9a-0add-4857-bdcb-049a00d4433a",
    "deepnote_cell_type": "markdown"
   }
  },
  {
   "cell_type": "code",
   "metadata": {
    "cell_id": "00022-73fc00d1-e80d-498f-ae58-a50105f7392a",
    "deepnote_to_be_reexecuted": false,
    "source_hash": "447acd9",
    "execution_start": 1640947336960,
    "execution_millis": 3078,
    "deepnote_cell_type": "code"
   },
   "source": "grader[3] = learningCurve\ngrader.grade()",
   "outputs": [
    {
     "name": "stdout",
     "text": "\nSubmitting Solutions | Programming Exercise regularized-linear-regression-and-bias-variance\n\n                                  Part Name |     Score | Feedback\n                                  --------- |     ----- | --------\n                           Validation Curve |  25 /  25 | Nice work!\nRegularized Linear Regression Cost Function |  25 /  25 | Nice work!\n     Regularized Linear Regression Gradient |  20 /  20 | Nice work!\n                             Learning Curve |   0 /  10 | Your answer is incorrect.\n                 Polynomial Feature Mapping |   0 /  20 | Your answer is incorrect.\n                                  --------------------------------\n                                            |  70 / 100 |  \n\n",
     "output_type": "stream",
     "data": {}
    }
   ],
   "execution_count": null
  },
  {
   "cell_type": "markdown",
   "source": "<a id=\"section4\"></a>\n\n## 3 Polynomial regression\n\nThe problem with our linear model was that it was too simple for the data\nand resulted in underfitting (high bias). In this part of the exercise, you will address this problem by adding more features. For polynomial regression, our hypothesis has the form:\n\n$$\n\\begin{align}\nh_\\theta(x)  &= \\theta_0 + \\theta_1 \\times (\\text{waterLevel}) + \\theta_2 \\times (\\text{waterLevel})^2 + \\cdots + \\theta_p \\times (\\text{waterLevel})^p \\\\\n& = \\theta_0 + \\theta_1 x_1 + \\theta_2 x_2 + \\cdots + \\theta_p x_p\n\\end{align}\n$$\n\nNotice that by defining $x_1 = (\\text{waterLevel})$, $x_2 = (\\text{waterLevel})^2$ , $\\cdots$, $x_p =\n(\\text{waterLevel})^p$, we obtain a linear regression model where the features are the various powers of the original value (waterLevel).\n\nNow, you will add more features using the higher powers of the existing feature $x$ in the dataset. Your task in this part is to complete the code in the function `polyFeatures` in the next cell. The function should map the original training set $X$ of size $m \\times 1$ into its higher powers. Specifically, when a training set $X$ of size $m \\times 1$ is passed into the function, the function should return a $m \\times p$ matrix `X_poly`, where column 1 holds the original values of X, column 2 holds the values of $X^2$, column 3 holds the values of $X^3$, and so on. Note that you don’t have to account for the zero-eth power in this function.\n\n<a id=\"polyFeatures\"></a>",
   "metadata": {
    "cell_id": "00023-18290365-13d7-4ff9-9d08-b47097b1a10c",
    "deepnote_cell_type": "markdown"
   }
  },
  {
   "cell_type": "code",
   "metadata": {
    "cell_id": "00024-368575a9-5a83-4a5d-adf1-cf83f80d86ad",
    "deepnote_to_be_reexecuted": false,
    "source_hash": "6e2b0522",
    "execution_start": 1640947358328,
    "execution_millis": 6,
    "deepnote_cell_type": "code"
   },
   "source": "def polyFeatures(X, p):\n    \"\"\"\n    Maps X (1D vector) into the p-th power.\n    \n    Parameters\n    ----------\n    X : array_like\n        A data vector of size m, where m is the number of examples.\n    \n    p : int\n        The polynomial power to map the features. \n    \n    Returns \n    -------\n    X_poly : array_like\n        A matrix of shape (m x p) where p is the polynomial \n        power and m is the number of examples. That is:\n    \n        X_poly[i, :] = [X[i], X[i]**2, X[i]**3 ...  X[i]**p]\n    \n    Instructions\n    ------------\n    Given a vector X, return a matrix X_poly where the p-th column of\n    X contains the values of X to the p-th power.\n    \"\"\"\n    # You need to return the following variables correctly.\n    X_poly = np.zeros((X.shape[0], p))\n\n    # ====================== YOUR CODE HERE ======================\n\n    for i in range(p):\n        X_poly[:, i] = X[:, 0]**(i+1)\n\n    # ============================================================\n    return X_poly",
   "outputs": [],
   "execution_count": null
  },
  {
   "cell_type": "markdown",
   "source": "Now you have a function that will map features to a higher dimension. The next cell will apply it to the training set, the test set, and the cross validation set.",
   "metadata": {
    "cell_id": "00025-7b424275-59c6-461e-a026-7d2b0ba48b65",
    "deepnote_cell_type": "markdown"
   }
  },
  {
   "cell_type": "code",
   "metadata": {
    "cell_id": "00026-738e451f-457a-4aeb-8c59-17340846286e",
    "deepnote_to_be_reexecuted": false,
    "source_hash": "909aac4d",
    "execution_start": 1640947360796,
    "execution_millis": 9,
    "deepnote_output_heights": [
     null,
     55.399993896484375
    ],
    "deepnote_cell_type": "code"
   },
   "source": "p = 8\n\n# Map X onto Polynomial Features and Normalize\nX_poly = polyFeatures(X, p)\nX_poly, mu, sigma = utils.featureNormalize(X_poly)\nX_poly = np.concatenate([np.ones((m, 1)), X_poly], axis=1)\n\n# Map X_poly_test and normalize (using mu and sigma)\nX_poly_test = polyFeatures(Xtest, p)\nX_poly_test -= mu\nX_poly_test /= sigma\nX_poly_test = np.concatenate([np.ones((ytest.size, 1)), X_poly_test], axis=1)\n\n# Map X_poly_val and normalize (using mu and sigma)\nX_poly_val = polyFeatures(Xval, p)\nX_poly_val -= mu\nX_poly_val /= sigma\nX_poly_val = np.concatenate([np.ones((yval.size, 1)), X_poly_val], axis=1)\n\nprint('Normalized Training Example 1:')\nX_poly[0, :]",
   "outputs": [
    {
     "name": "stdout",
     "text": "Normalized Training Example 1:\n",
     "output_type": "stream",
     "data": {}
    },
    {
     "output_type": "execute_result",
     "execution_count": 13,
     "data": {
      "text/plain": "array([ 1.        , -0.36214078, -0.75508669,  0.18222588, -0.70618991,\n        0.30661792, -0.59087767,  0.3445158 , -0.50848117])"
     },
     "metadata": {}
    }
   ],
   "execution_count": null
  },
  {
   "cell_type": "markdown",
   "source": "*You should now submit your solutions.*",
   "metadata": {
    "cell_id": "00027-0bed6112-eb1c-4236-83d4-c08ded57d8c6",
    "deepnote_cell_type": "markdown"
   }
  },
  {
   "cell_type": "code",
   "metadata": {
    "cell_id": "00028-f41a2a5a-182b-4d71-abf5-945a26ddc884",
    "deepnote_to_be_reexecuted": false,
    "source_hash": "39579191",
    "execution_start": 1640947364098,
    "execution_millis": 3354,
    "deepnote_cell_type": "code"
   },
   "source": "grader[4] = polyFeatures\ngrader.grade()",
   "outputs": [
    {
     "name": "stdout",
     "text": "\nSubmitting Solutions | Programming Exercise regularized-linear-regression-and-bias-variance\n\n                                  Part Name |     Score | Feedback\n                                  --------- |     ----- | --------\n                           Validation Curve |  25 /  25 | Nice work!\nRegularized Linear Regression Cost Function |  25 /  25 | Nice work!\n     Regularized Linear Regression Gradient |  20 /  20 | Nice work!\n                             Learning Curve |  10 /  10 | Nice work!\n                 Polynomial Feature Mapping |   0 /  20 | Your answer is incorrect.\n                                  --------------------------------\n                                            |  80 / 100 |  \n\n",
     "output_type": "stream",
     "data": {}
    }
   ],
   "execution_count": null
  },
  {
   "cell_type": "markdown",
   "source": "## 3.1 Learning Polynomial Regression\n\nAfter you have completed the function `polyFeatures`, we will proceed to train polynomial regression using your linear regression cost function.\n\nKeep in mind that even though we have polynomial terms in our feature vector, we are still solving a linear regression optimization problem. The polynomial terms have simply turned into features that we can use for linear regression. We are using the same cost function and gradient that you wrote for the earlier part of this exercise.\n\nFor this part of the exercise, you will be using a polynomial of degree 8. It turns out that if we run the training directly on the projected data, will not work well as the features would be badly scaled (e.g., an example with $x = 40$ will now have a feature $x_8 = 40^8 = 6.5 \\times 10^{12}$). Therefore, you will\nneed to use feature normalization.\n\nBefore learning the parameters $\\theta$ for the polynomial regression, we first call `featureNormalize` and normalize the features of the training set, storing the mu, sigma parameters separately. We have already implemented this function for you (in `utils.py` module) and it is the same function from the first exercise.\n\nAfter learning the parameters $\\theta$, you should see two plots generated for polynomial regression with $\\lambda = 0$, which should be similar to the ones here:\n\n<table>\n    <tr>\n        <td><img src=\"Figures/polynomial_regression.png\"></td>\n        <td><img src=\"Figures/polynomial_learning_curve.png\"></td>\n    </tr>\n</table>\n\nYou should see that the polynomial fit is able to follow the datapoints very well, thus, obtaining a low training error. The figure on the right shows that the training error essentially stays zero for all numbers of training samples. However, the polynomial fit is very complex and even drops off at the extremes. This is an indicator that the polynomial regression model is overfitting the training data and will not generalize well.\n\nTo better understand the problems with the unregularized ($\\lambda = 0$) model, you can see that the learning curve  shows the same effect where the training error is low, but the cross validation error is high. There is a gap between the training and cross validation errors, indicating a high variance problem.",
   "metadata": {
    "cell_id": "00029-8967221e-dd82-4552-8827-a9715e135c27",
    "deepnote_cell_type": "markdown"
   }
  },
  {
   "cell_type": "code",
   "metadata": {
    "cell_id": "00030-df7f919c-0ebd-4739-a1fc-202a0d214520",
    "deepnote_cell_type": "code"
   },
   "source": "lambda_ = 0\ntheta = utils.trainLinearReg(linearRegCostFunction, X_poly, y,\n                             lambda_=lambda_, maxiter=55)\n\n# Plot training data and fit\npyplot.plot(X, y, 'ro', ms=10, mew=1.5, mec='k')\n\nutils.plotFit(polyFeatures, np.min(X), np.max(X), mu, sigma, theta, p)\n\npyplot.xlabel('Change in water level (x)')\npyplot.ylabel('Water flowing out of the dam (y)')\npyplot.title('Polynomial Regression Fit (lambda = %f)' % lambda_)\npyplot.ylim([-20, 50])\n\npyplot.figure()\nerror_train, error_val = learningCurve(X_poly, y, X_poly_val, yval, lambda_)\npyplot.plot(np.arange(1, 1+m), error_train, np.arange(1, 1+m), error_val)\n\npyplot.title('Polynomial Regression Learning Curve (lambda = %f)' % lambda_)\npyplot.xlabel('Number of training examples')\npyplot.ylabel('Error')\npyplot.axis([0, 13, 0, 100])\npyplot.legend(['Train', 'Cross Validation'])\n\nprint('Polynomial Regression (lambda = %f)\\n' % lambda_)\nprint('# Training Examples\\tTrain Error\\tCross Validation Error')\nfor i in range(m):\n    print('  \\t%d\\t\\t%f\\t%f' % (i+1, error_train[i], error_val[i]))",
   "execution_count": null,
   "outputs": []
  },
  {
   "cell_type": "markdown",
   "source": "One way to combat the overfitting (high-variance) problem is to add regularization to the model. In the next section, you will get to  try different $\\lambda$ parameters to see how regularization can lead to a better model.\n\n### 3.2 Optional (ungraded) exercise: Adjusting the regularization parameter\n\nIn this section, you will get to observe how the regularization parameter affects the bias-variance of regularized polynomial regression. You should now modify the lambda parameter and try $\\lambda = 1, 100$. For each of these values, the script should generate a polynomial fit to the data and also a learning curve.\n\nFor $\\lambda = 1$, the generated plots should look like the figure below. You should see a polynomial fit that follows the data trend well (left) and a learning curve (right) showing that both the cross validation and training error converge to a relatively low value. This shows the $\\lambda = 1$ regularized polynomial regression model does not have the high-bias or high-variance problems. In effect, it achieves a good trade-off between bias and variance.\n\n<table>\n    <tr>\n        <td><img src=\"Figures/polynomial_regression_reg_1.png\"></td>\n        <td><img src=\"Figures/polynomial_learning_curve_reg_1.png\"></td>\n    </tr>\n</table>\n\nFor $\\lambda = 100$, you should see a polynomial fit (figure below) that does not follow the data well. In this case, there is too much regularization and the model is unable to fit the training data.\n\n![](Figures/polynomial_regression_reg_100.png)\n\n*You do not need to submit any solutions for this optional (ungraded) exercise.*",
   "metadata": {
    "cell_id": "00031-c77cb019-fd7d-46f3-bf99-0f2525dc8afe",
    "deepnote_cell_type": "markdown"
   }
  },
  {
   "cell_type": "markdown",
   "source": "<a id=\"section5\"></a>\n### 3.3 Selecting $\\lambda$ using a cross validation set\n\nFrom the previous parts of the exercise, you observed that the value of $\\lambda$ can significantly affect the results of regularized polynomial regression on the training and cross validation set. In particular, a model without regularization ($\\lambda = 0$) fits the training set well, but does not generalize. Conversely, a model with too much regularization ($\\lambda = 100$) does not fit the training set and testing set well. A good choice of $\\lambda$ (e.g., $\\lambda = 1$) can provide a good fit to the data.\n\nIn this section, you will implement an automated method to select the $\\lambda$ parameter. Concretely, you will use a cross validation set to evaluate how good each $\\lambda$ value is. After selecting the best $\\lambda$ value using the cross validation set, we can then evaluate the model on the test set to estimate\nhow well the model will perform on actual unseen data. \n\nYour task is to complete the code in the function `validationCurve`. Specifically, you should should use the `utils.trainLinearReg` function to train the model using different values of $\\lambda$ and compute the training error and cross validation error. You should try $\\lambda$ in the following range: {0, 0.001, 0.003, 0.01, 0.03, 0.1, 0.3, 1, 3, 10}.\n<a id=\"validationCurve\"></a>",
   "metadata": {
    "cell_id": "00032-56904ac8-aedf-4a0a-a72c-f3b7684378ff",
    "deepnote_cell_type": "markdown"
   }
  },
  {
   "cell_type": "code",
   "metadata": {
    "cell_id": "00033-69884ed5-4f97-485c-b438-0cd06c859ad9",
    "deepnote_cell_type": "code"
   },
   "source": "def validationCurve(X, y, Xval, yval):\n    \"\"\"\n    Generate the train and validation errors needed to plot a validation\n    curve that we can use to select lambda_.\n    \n    Parameters\n    ----------\n    X : array_like\n        The training dataset. Matrix with shape (m x n) where m is the \n        total number of training examples, and n is the number of features \n        including any polynomial features.\n    \n    y : array_like\n        The functions values at each training datapoint. A vector of\n        shape (m, ).\n    \n    Xval : array_like\n        The validation dataset. Matrix with shape (m_val x n) where m is the \n        total number of validation examples, and n is the number of features \n        including any polynomial features.\n    \n    yval : array_like\n        The functions values at each validation datapoint. A vector of\n        shape (m_val, ).\n    \n    Returns\n    -------\n    lambda_vec : list\n        The values of the regularization parameters which were used in \n        cross validation.\n    \n    error_train : list\n        The training error computed at each value for the regularization\n        parameter.\n    \n    error_val : list\n        The validation error computed at each value for the regularization\n        parameter.\n    \n    Instructions\n    ------------\n    Fill in this function to return training errors in `error_train` and\n    the validation errors in `error_val`. The vector `lambda_vec` contains\n    the different lambda parameters to use for each calculation of the\n    errors, i.e, `error_train[i]`, and `error_val[i]` should give you the\n    errors obtained after training with `lambda_ = lambda_vec[i]`.\n\n    Note\n    ----\n    You can loop over lambda_vec with the following:\n    \n          for i in range(len(lambda_vec))\n              lambda = lambda_vec[i]\n              # Compute train / val errors when training linear \n              # regression with regularization parameter lambda_\n              # You should store the result in error_train[i]\n              # and error_val[i]\n              ....\n    \"\"\"\n    # Selected values of lambda (you should not change this)\n    lambda_vec = [0, 0.001, 0.003, 0.01, 0.03, 0.1, 0.3, 1, 3, 10]\n\n    # You need to return these variables correctly.\n    error_train = np.zeros(len(lambda_vec))\n    error_val = np.zeros(len(lambda_vec))\n\n    # ====================== YOUR CODE HERE ======================\n\n\n\n    # ============================================================\n    return lambda_vec, error_train, error_val",
   "execution_count": null,
   "outputs": []
  },
  {
   "cell_type": "markdown",
   "source": "After you have completed the code, the next cell will run your function and plot a cross validation curve of error v.s. $\\lambda$ that allows you select which $\\lambda$ parameter to use. You should see a plot similar to the figure below. \n\n![](Figures/cross_validation.png)\n\nIn this figure, we can see that the best value of $\\lambda$ is around 3. Due to randomness\nin the training and validation splits of the dataset, the cross validation error can sometimes be lower than the training error.",
   "metadata": {
    "cell_id": "00034-34348bd5-1837-4974-b29d-9bf6f620d221",
    "deepnote_cell_type": "markdown"
   }
  },
  {
   "cell_type": "code",
   "metadata": {
    "cell_id": "00035-dea43230-d36e-40e8-ab05-25d4e5c30f06",
    "deepnote_cell_type": "code"
   },
   "source": "lambda_vec, error_train, error_val = validationCurve(X_poly, y, X_poly_val, yval)\n\npyplot.plot(lambda_vec, error_train, '-o', lambda_vec, error_val, '-o', lw=2)\npyplot.legend(['Train', 'Cross Validation'])\npyplot.xlabel('lambda')\npyplot.ylabel('Error')\n\nprint('lambda\\t\\tTrain Error\\tValidation Error')\nfor i in range(len(lambda_vec)):\n    print(' %f\\t%f\\t%f' % (lambda_vec[i], error_train[i], error_val[i]))",
   "execution_count": null,
   "outputs": []
  },
  {
   "cell_type": "markdown",
   "source": "*You should now submit your solutions.*",
   "metadata": {
    "cell_id": "00036-4eb26d29-2288-4838-931f-ead1d0ab926b",
    "deepnote_cell_type": "markdown"
   }
  },
  {
   "cell_type": "code",
   "metadata": {
    "cell_id": "00037-4f0b74f9-e697-4814-8ce4-cbd32d17ecd0",
    "deepnote_cell_type": "code"
   },
   "source": "grader[5] = validationCurve\ngrader.grade()",
   "execution_count": null,
   "outputs": []
  },
  {
   "cell_type": "markdown",
   "source": "### 3.4  Optional (ungraded) exercise: Computing test set error\n\nIn the previous part of the exercise, you implemented code to compute the cross validation error for various values of the regularization parameter $\\lambda$. However, to get a better indication of the model’s performance in the real world, it is important to evaluate the “final” model on a test set that was not used in any part of training (that is, it was neither used to select the $\\lambda$ parameters, nor to learn the model parameters $\\theta$). For this optional (ungraded) exercise, you should compute the test error using the best value of $\\lambda$ you found. In our cross validation, we obtained a test error of 3.8599 for $\\lambda = 3$.\n\n*You do not need to submit any solutions for this optional (ungraded) exercise.*",
   "metadata": {
    "cell_id": "00038-8527bfe5-2110-4d17-be0b-429c38a9c52b",
    "deepnote_cell_type": "markdown"
   }
  },
  {
   "cell_type": "code",
   "metadata": {
    "cell_id": "00039-17caea6e-0648-4fcf-9ccd-b0fdac0d766b",
    "deepnote_cell_type": "code"
   },
   "source": "",
   "execution_count": null,
   "outputs": []
  },
  {
   "cell_type": "markdown",
   "source": "### 3.5 Optional (ungraded) exercise: Plotting learning curves with randomly selected examples\n\nIn practice, especially for small training sets, when you plot learning curves to debug your algorithms, it is often helpful to average across multiple sets of randomly selected examples to determine the training error and cross validation error.\n\nConcretely, to determine the training error and cross validation error for $i$ examples, you should first randomly select $i$ examples from the training set and $i$ examples from the cross validation set. You will then learn the parameters $\\theta$ using the randomly chosen training set and evaluate the parameters $\\theta$ on the randomly chosen training set and cross validation set. The above steps should then be repeated multiple times (say 50) and the averaged error should be used to determine the training error and cross validation error for $i$ examples.\n\nFor this optional (ungraded) exercise, you should implement the above strategy for computing the learning curves. For reference, the figure below  shows the learning curve we obtained for polynomial regression with $\\lambda = 0.01$. Your figure may differ slightly due to the random selection of examples.\n\n![](Figures/learning_curve_random.png)\n\n*You do not need to submit any solutions for this optional (ungraded) exercise.*",
   "metadata": {
    "cell_id": "00040-eea17db7-9068-45e4-9c6d-f1852294a59e",
    "deepnote_cell_type": "markdown"
   }
  },
  {
   "cell_type": "code",
   "metadata": {
    "cell_id": "00041-6e33846b-558d-42a6-95af-a4cd56f4fb34",
    "deepnote_cell_type": "code"
   },
   "source": "",
   "execution_count": null,
   "outputs": []
  },
  {
   "cell_type": "markdown",
   "source": "<a style='text-decoration:none;line-height:16px;display:flex;color:#5B5B62;padding:10px;justify-content:end;' href='https://deepnote.com?utm_source=created-in-deepnote-cell&projectId=59d74e30-0bbc-4715-82dc-8d3f1573377c' target=\"_blank\">\n<img alt='Created in deepnote.com' style='display:inline;max-height:16px;margin:0px;margin-right:7.5px;' src='data:image/svg+xml;base64,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' > </img>\nCreated in <span style='font-weight:600;margin-left:4px;'>Deepnote</span></a>",
   "metadata": {
    "tags": [],
    "created_in_deepnote_cell": true,
    "deepnote_cell_type": "markdown"
   }
  }
 ],
 "nbformat": 4,
 "nbformat_minor": 2,
 "metadata": {
  "kernelspec": {
   "display_name": "Python 3",
   "language": "python",
   "name": "python3"
  },
  "language_info": {
   "codemirror_mode": {
    "name": "ipython",
    "version": 3
   },
   "file_extension": ".py",
   "mimetype": "text/x-python",
   "name": "python",
   "nbconvert_exporter": "python",
   "pygments_lexer": "ipython3",
   "version": "3.6.4"
  },
  "deepnote_notebook_id": "4b8f078b-d707-414c-814d-d5acc2f19d37",
  "deepnote": {},
  "deepnote_execution_queue": []
 }
}